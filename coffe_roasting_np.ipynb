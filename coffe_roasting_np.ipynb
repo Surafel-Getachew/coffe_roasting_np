{
  "nbformat": 4,
  "nbformat_minor": 0,
  "metadata": {
    "colab": {
      "provenance": [],
      "authorship_tag": "ABX9TyPG8tHZRTtb/vmhZH1h+tVZ",
      "include_colab_link": true
    },
    "kernelspec": {
      "name": "python3",
      "display_name": "Python 3"
    },
    "language_info": {
      "name": "python"
    }
  },
  "cells": [
    {
      "cell_type": "markdown",
      "metadata": {
        "id": "view-in-github",
        "colab_type": "text"
      },
      "source": [
        "<a href=\"https://colab.research.google.com/github/Surafel-Getachew/coffe_roasting_np/blob/main/coffe_roasting_np.ipynb\" target=\"_parent\"><img src=\"https://colab.research.google.com/assets/colab-badge.svg\" alt=\"Open In Colab\"/></a>"
      ]
    },
    {
      "cell_type": "code",
      "execution_count": 1,
      "metadata": {
        "colab": {
          "base_uri": "https://localhost:8080/"
        },
        "id": "D-raIq1jyUY2",
        "outputId": "f5feb1d6-4597-450b-fd4e-1c6ece4b22ca"
      },
      "outputs": [
        {
          "output_type": "stream",
          "name": "stdout",
          "text": [
            "Mounted at /content/drive\n"
          ]
        }
      ],
      "source": [
        "from google.colab import drive\n",
        "drive.mount('/content/drive')\n",
        "# drive.mount(\"/coffe_data.ipynb\")"
      ]
    },
    {
      "cell_type": "code",
      "source": [
        "%cd /content/drive/My\\ Drive\n",
        "\n",
        "# List files to make sure we're in the expected directory.\n",
        "# Your output will look different, showing your own Drive files here.\n",
        "!ls"
      ],
      "metadata": {
        "id": "MFosO-DtyacC"
      },
      "execution_count": null,
      "outputs": []
    },
    {
      "cell_type": "code",
      "source": [
        "import numpy as np\n",
        "import matplotlib.pyplot as plt\n",
        "import tensorflow as tf\n",
        "from tensorflow.keras.activations import sigmoid\n",
        "from matplotlib import cm\n",
        "import matplotlib.colors as colors\n",
        "# from lab_utils_common import dlc\n",
        "\n",
        "def load_coffee_data():\n",
        "    \"\"\" Creates a coffee roasting data set.\n",
        "        roasting duration: 12-15 minutes is best\n",
        "        temperature range: 175-260C is best\n",
        "    \"\"\"\n",
        "    rng = np.random.default_rng(2)\n",
        "    X = rng.random(400).reshape(-1,2)\n",
        "    X[:,1] = X[:,1] * 4 + 11.5          # 12-15 min is best\n",
        "    X[:,0] = X[:,0] * (285-150) + 150  # 350-500 F (175-260 C) is best\n",
        "    Y = np.zeros(len(X))\n",
        "    \n",
        "    i=0\n",
        "    for t,d in X:\n",
        "        y = -3/(260-175)*t + 21\n",
        "        if (t > 175 and t < 260 and d > 12 and d < 15 and d<=y ):\n",
        "            Y[i] = 1\n",
        "        else:\n",
        "            Y[i] = 0\n",
        "        i += 1\n",
        "\n",
        "    return (X, Y.reshape(-1,1))\n",
        "\n",
        "def plt_roast(X,Y):\n",
        "    Y = Y.reshape(-1,)\n",
        "    colormap = np.array(['r', 'b'])\n",
        "    fig, ax = plt.subplots(1,1,)\n",
        "    ax.scatter(X[Y==1,0],X[Y==1,1], s=70, marker='x', c='red', label=\"Good Roast\" )\n",
        "    ax.scatter(X[Y==0,0],X[Y==0,1], s=100, marker='o', facecolors='none', \n",
        "               edgecolors=dlc[\"dldarkblue\"],linewidth=1,  label=\"Bad Roast\")\n",
        "    tr = np.linspace(175,260,50)\n",
        "    ax.plot(tr, (-3/85) * tr + 21, color=dlc[\"dlpurple\"],linewidth=1)\n",
        "    ax.axhline(y=12,color=dlc[\"dlpurple\"],linewidth=1)\n",
        "    ax.axvline(x=175,color=dlc[\"dlpurple\"],linewidth=1)\n",
        "    ax.set_title(f\"Coffee Roasting\", size=16)\n",
        "    ax.set_xlabel(\"Temperature \\n(Celsius)\",size=12)\n",
        "    ax.set_ylabel(\"Duration \\n(minutes)\",size=12)\n",
        "    ax.legend(loc='upper right')\n",
        "    plt.show()\n",
        "\n",
        "def plt_prob(ax,fwb):\n",
        "    \"\"\" plots a decision boundary but include shading to indicate the probability \"\"\"\n",
        "    #setup useful ranges and common linspaces\n",
        "    x0_space  = np.linspace(150, 285 , 40)\n",
        "    x1_space  = np.linspace(11.5, 15.5 , 40)\n",
        "\n",
        "    # get probability for x0,x1 ranges\n",
        "    tmp_x0,tmp_x1 = np.meshgrid(x0_space,x1_space)\n",
        "    z = np.zeros_like(tmp_x0)\n",
        "    for i in range(tmp_x0.shape[0]):\n",
        "        for j in range(tmp_x1.shape[1]):\n",
        "            x = np.array([[tmp_x0[i,j],tmp_x1[i,j]]])\n",
        "            z[i,j] = fwb(x)\n",
        "\n",
        "\n",
        "    cmap = plt.get_cmap('Blues')\n",
        "    new_cmap = truncate_colormap(cmap, 0.0, 0.5)\n",
        "    pcm = ax.pcolormesh(tmp_x0, tmp_x1, z,\n",
        "                   norm=cm.colors.Normalize(vmin=0, vmax=1),\n",
        "                   cmap=new_cmap, shading='nearest', alpha = 0.9)\n",
        "    ax.figure.colorbar(pcm, ax=ax)\n",
        "\n",
        "def truncate_colormap(cmap, minval=0.0, maxval=1.0, n=100):\n",
        "    \"\"\" truncates color map \"\"\"\n",
        "    new_cmap = colors.LinearSegmentedColormap.from_list(\n",
        "        'trunc({n},{a:.2f},{b:.2f})'.format(n=cmap.name, a=minval, b=maxval),\n",
        "        cmap(np.linspace(minval, maxval, n)))\n",
        "    return new_cmap\n",
        "\n",
        "def plt_layer(X,Y,W1,b1,norm_l):\n",
        "    Y = Y.reshape(-1,)\n",
        "    fig,ax = plt.subplots(1,W1.shape[1], figsize=(16,4))\n",
        "    for i in range(W1.shape[1]):\n",
        "        layerf= lambda x : sigmoid(np.dot(norm_l(x),W1[:,i]) + b1[i])\n",
        "        plt_prob(ax[i], layerf)\n",
        "        ax[i].scatter(X[Y==1,0],X[Y==1,1], s=70, marker='x', c='red', label=\"Good Roast\" )\n",
        "        ax[i].scatter(X[Y==0,0],X[Y==0,1], s=100, marker='o', facecolors='none', \n",
        "                   edgecolors=dlc[\"dldarkblue\"],linewidth=1,  label=\"Bad Roast\")\n",
        "        tr = np.linspace(175,260,50)\n",
        "        ax[i].plot(tr, (-3/85) * tr + 21, color=dlc[\"dlpurple\"],linewidth=2)\n",
        "        ax[i].axhline(y= 12, color=dlc[\"dlpurple\"], linewidth=2)\n",
        "        ax[i].axvline(x=175, color=dlc[\"dlpurple\"], linewidth=2)\n",
        "        ax[i].set_title(f\"Layer 1, unit {i}\")\n",
        "        ax[i].set_xlabel(\"Temperature \\n(Celsius)\",size=12)\n",
        "    ax[0].set_ylabel(\"Duration \\n(minutes)\",size=12)\n",
        "    plt.show()\n",
        "        \n",
        "def plt_network(X,Y,netf):\n",
        "    fig, ax = plt.subplots(1,2,figsize=(16,4))\n",
        "    Y = Y.reshape(-1,)\n",
        "    plt_prob(ax[0], netf)\n",
        "    ax[0].scatter(X[Y==1,0],X[Y==1,1], s=70, marker='x', c='red', label=\"Good Roast\" )\n",
        "    ax[0].scatter(X[Y==0,0],X[Y==0,1], s=100, marker='o', facecolors='none', \n",
        "                   edgecolors=dlc[\"dldarkblue\"],linewidth=1,  label=\"Bad Roast\")\n",
        "    ax[0].plot(X[:,0], (-3/85) * X[:,0] + 21, color=dlc[\"dlpurple\"],linewidth=1)\n",
        "    ax[0].axhline(y= 12, color=dlc[\"dlpurple\"], linewidth=1)\n",
        "    ax[0].axvline(x=175, color=dlc[\"dlpurple\"], linewidth=1)\n",
        "    ax[0].set_xlabel(\"Temperature \\n(Celsius)\",size=12)\n",
        "    ax[0].set_ylabel(\"Duration \\n(minutes)\",size=12)\n",
        "    ax[0].legend(loc='upper right')\n",
        "    ax[0].set_title(f\"network probability\")\n",
        "\n",
        "    ax[1].plot(X[:,0], (-3/85) * X[:,0] + 21, color=dlc[\"dlpurple\"],linewidth=1)\n",
        "    ax[1].axhline(y= 12, color=dlc[\"dlpurple\"], linewidth=1)\n",
        "    ax[1].axvline(x=175, color=dlc[\"dlpurple\"], linewidth=1)\n",
        "    fwb = netf(X)\n",
        "    yhat = (fwb > 0.5).astype(int)\n",
        "    ax[1].scatter(X[yhat[:,0]==1,0],X[yhat[:,0]==1,1], s=70, marker='x', c='orange', label=\"Predicted Good Roast\" )\n",
        "    ax[1].scatter(X[yhat[:,0]==0,0],X[yhat[:,0]==0,1], s=100, marker='o', facecolors='none', \n",
        "                   edgecolors=dlc[\"dldarkblue\"],linewidth=1,  label=\"Bad Roast\")\n",
        "    ax[1].set_title(f\"network decision\")\n",
        "    ax[1].set_xlabel(\"Temperature \\n(Celsius)\",size=12)\n",
        "    ax[1].set_ylabel(\"Duration \\n(minutes)\",size=12)\n",
        "    ax[1].legend(loc='upper right')\n"
      ],
      "metadata": {
        "id": "-xUK15N-yi6r"
      },
      "execution_count": 4,
      "outputs": []
    },
    {
      "cell_type": "code",
      "source": [
        "import numpy as np\n",
        "import tensorflow as tf"
      ],
      "metadata": {
        "id": "p5JcSmP-ysvQ"
      },
      "execution_count": null,
      "outputs": []
    },
    {
      "cell_type": "markdown",
      "source": [
        "## Load Data"
      ],
      "metadata": {
        "id": "MeQfe_eTzHjh"
      }
    },
    {
      "cell_type": "code",
      "source": [
        "X,Y = load_coffee_data()\n",
        "print(X.shape,Y.shape)"
      ],
      "metadata": {
        "colab": {
          "base_uri": "https://localhost:8080/"
        },
        "id": "j8G-y0y_zNTO",
        "outputId": "2be2e4b2-edd1-48c3-84c0-70f248950211"
      },
      "execution_count": 6,
      "outputs": [
        {
          "output_type": "stream",
          "name": "stdout",
          "text": [
            "(200, 2) (200, 1)\n"
          ]
        }
      ]
    },
    {
      "cell_type": "markdown",
      "source": [
        "## Normalize Data"
      ],
      "metadata": {
        "id": "zHbugRbSzgX0"
      }
    },
    {
      "cell_type": "code",
      "source": [
        "print(f\"Temperature Max, Min pre normalization: {np.max(X[:,0]):0.2f}, {np.min(X[:,0]):0.2f}\")\n",
        "print(f\"Duration    Max, Min pre normalization: {np.max(X[:,1]):0.2f}, {np.min(X[:,1]):0.2f}\")\n",
        "\n",
        "norm_1 = tf.keras.layers.Normalization(axis=-1)\n",
        "norm_1.adapt(X) # learns mean, variance\n",
        "Xn = norm_1(X)\n",
        "\n",
        "print(f\"Temperature Max, Min post normalization: {np.max(Xn[:,0]):0.2f}, {np.min(Xn[:,0]):0.2f}\")\n",
        "print(f\"Duration    Max, Min post normalization: {np.max(Xn[:,1]):0.2f}, {np.min(Xn[:,1]):0.2f}\")"
      ],
      "metadata": {
        "colab": {
          "base_uri": "https://localhost:8080/"
        },
        "id": "GSbvsQPOzjat",
        "outputId": "2f2fc103-31f9-4b1d-ec6c-27c9886a77f5"
      },
      "execution_count": 9,
      "outputs": [
        {
          "output_type": "stream",
          "name": "stdout",
          "text": [
            "Temperature Max, Min pre normalization: 284.99, 151.32\n",
            "Duration    Max, Min pre normalization: 15.45, 11.51\n",
            "Temperature Max, Min post normalization: 1.66, -1.69\n",
            "Duration    Max, Min post normalization: 1.79, -1.70\n"
          ]
        }
      ]
    },
    {
      "cell_type": "markdown",
      "source": [
        "## Numpy Model (Forward Prop in Numpy)"
      ],
      "metadata": {
        "id": "hlZKg1ye0P3f"
      }
    },
    {
      "cell_type": "code",
      "source": [
        "def sigmoid(z):\n",
        "  return 1/(1+np.exp(-z))\n",
        "\n",
        "g = sigmoid\n",
        "\n",
        "def my_dense(a_in,W,b):\n",
        "  print(f\"a_in: {a_in}\")\n",
        "  print(f\"W: {W}\")\n",
        "  print(f\"b: {b}\")\n",
        "  units = W.shape[1]\n",
        "  a_out = np.zeros(units)\n",
        "  \n",
        "  for j in range(units):\n",
        "    w = W[:,j]\n",
        "    print(f\"w_unit{j}: {w}\")\n",
        "    print(f\"b_unit{j}: {b[j]}\")\n",
        "    z = np.dot(a_in,w) + b[j]\n",
        "    a_out[j] = g(z)\n",
        "  return a_out\n"
      ],
      "metadata": {
        "id": "CxdAiUiz0rHj"
      },
      "execution_count": 33,
      "outputs": []
    },
    {
      "cell_type": "code",
      "source": [
        "def my_sequential(x,W1,b1,W2,b2):\n",
        "  a1 = my_dense(x,W1,b1)\n",
        "  a2 = my_dense(a1,W2,b2)\n",
        "  return a2"
      ],
      "metadata": {
        "id": "Kzi-cnnN4hYz"
      },
      "execution_count": 15,
      "outputs": []
    },
    {
      "cell_type": "markdown",
      "source": [
        "We can copy trained weights and biases from the previous lab in Tensorflow."
      ],
      "metadata": {
        "id": "B9GKNf4U5nOc"
      }
    },
    {
      "cell_type": "code",
      "source": [
        "W1_tmp = np.array( [[-8.93,  0.29, 12.9 ], [-0.1,  -7.32, 10.81]] )\n",
        "b1_tmp = np.array( [-9.82, -9.28,  0.96] )\n",
        "W2_tmp = np.array( [[-31.18], [-27.59], [-32.56]] )\n",
        "b2_tmp = np.array( [15.41] )\n"
      ],
      "metadata": {
        "id": "AGn9rROh5D_6"
      },
      "execution_count": 17,
      "outputs": []
    },
    {
      "cell_type": "markdown",
      "source": [
        "## Prediction"
      ],
      "metadata": {
        "id": "Xdd1jLRb6_HG"
      }
    },
    {
      "cell_type": "code",
      "source": [
        "def my_prediction(X,W1,b1,W2,b2):\n",
        "  m = X.shape[0]\n",
        "  p = np.zeros((m,1))\n",
        "\n",
        "  for i in range(m):\n",
        "    p[i,0] = my_sequential(X[i],W1,b1,W2,b2)\n",
        "  return p"
      ],
      "metadata": {
        "id": "xIswPvrQ69qc"
      },
      "execution_count": 19,
      "outputs": []
    },
    {
      "cell_type": "markdown",
      "source": [
        "We can try this routine on two examples:"
      ],
      "metadata": {
        "id": "jRhjzLle99RI"
      }
    },
    {
      "cell_type": "code",
      "source": [
        "X_tst = np.array([\n",
        "    [200,13.9],  # postive example\n",
        "    [200,17]])   # negative example\n",
        "X_tstn = norm_1(X_tst)  # remember to normalize\n",
        "print(f\"normalized: {X_tstn}\")\n",
        "predictions = my_prediction(X_tstn, W1_tmp, b1_tmp, W2_tmp, b2_tmp)"
      ],
      "metadata": {
        "colab": {
          "base_uri": "https://localhost:8080/"
        },
        "id": "xrhW9rGi9_Jj",
        "outputId": "3a355cc6-e93a-4b49-c4c5-ef2ed07dc6bb"
      },
      "execution_count": 34,
      "outputs": [
        {
          "output_type": "stream",
          "name": "stdout",
          "text": [
            "normalized: [[-0.46714395  0.4159052 ]\n",
            " [-0.46714395  3.1631167 ]]\n",
            "a_in: [-0.46714395  0.4159052 ]\n",
            "W: [[-8.93  0.29 12.9 ]\n",
            " [-0.1  -7.32 10.81]]\n",
            "b: [-9.82 -9.28  0.96]\n",
            "w_unit0: [-8.93 -0.1 ]\n",
            "b_unit0: -9.82\n",
            "w_unit1: [ 0.29 -7.32]\n",
            "b_unit1: -9.28\n",
            "w_unit2: [12.9  10.81]\n",
            "b_unit2: 0.96\n",
            "a_in: [3.3682265e-03 3.8791219e-06 3.6118567e-01]\n",
            "W: [[-31.18]\n",
            " [-27.59]\n",
            " [-32.56]]\n",
            "b: [15.41]\n",
            "w_unit0: [-31.18 -27.59 -32.56]\n",
            "b_unit0: 15.41\n",
            "a_in: [-0.46714395  3.1631167 ]\n",
            "W: [[-8.93  0.29 12.9 ]\n",
            " [-0.1  -7.32 10.81]]\n",
            "b: [-9.82 -9.28  0.96]\n",
            "w_unit0: [-8.93 -0.1 ]\n",
            "b_unit0: -9.82\n",
            "w_unit1: [ 0.29 -7.32]\n",
            "b_unit1: -9.28\n",
            "w_unit2: [12.9  10.81]\n",
            "b_unit2: 0.96\n",
            "a_in: [2.56119674e-03 7.16559036e-15 1.00000000e+00]\n",
            "W: [[-31.18]\n",
            " [-27.59]\n",
            " [-32.56]]\n",
            "b: [15.41]\n",
            "w_unit0: [-31.18 -27.59 -32.56]\n",
            "b_unit0: 15.41\n"
          ]
        }
      ]
    },
    {
      "cell_type": "code",
      "source": [
        "yhat = np.zeros_like(predictions)\n",
        "for i in range(len(predictions)):\n",
        "    if predictions[i] >= 0.5:\n",
        "        yhat[i] = 1\n",
        "    else:\n",
        "        yhat[i] = 0\n",
        "print(f\"decisions = \\n{yhat}\")"
      ],
      "metadata": {
        "colab": {
          "base_uri": "https://localhost:8080/"
        },
        "id": "hzon346Q-dLv",
        "outputId": "ebb1b2f1-4adb-4c27-9eb7-f6f81c3c35b6"
      },
      "execution_count": 27,
      "outputs": [
        {
          "output_type": "stream",
          "name": "stdout",
          "text": [
            "decisions = \n",
            "[[1.]\n",
            " [0.]]\n"
          ]
        }
      ]
    }
  ]
}